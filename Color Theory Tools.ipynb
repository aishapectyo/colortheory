{
 "cells": [
  {
   "cell_type": "markdown",
   "metadata": {},
   "source": [
    "Simple color theory tools."
   ]
  },
  {
   "cell_type": "code",
   "execution_count": 151,
   "metadata": {},
   "outputs": [],
   "source": [
    "%matplotlib inline\n",
    "import matplotlib.pyplot as plt\n",
    "\n",
    "import colorsys"
   ]
  },
  {
   "cell_type": "code",
   "execution_count": 12,
   "metadata": {},
   "outputs": [],
   "source": [
    "def rgb2hex(val):\n",
    "    \"\"\"\n",
    "    Takes tuple and converts to hex value.\n",
    "    \"\"\"\n",
    "    conversion = '#%02x%02x%02x' % val\n",
    "    return conversion"
   ]
  },
  {
   "cell_type": "code",
   "execution_count": 132,
   "metadata": {},
   "outputs": [],
   "source": [
    "def hex2rgb(val):\n",
    "    \"\"\"\n",
    "    Takes hex string and converts to rgb tuple.\n",
    "    \"\"\"\n",
    "    hexNum = val.strip('#')\n",
    "    hexLen = len(hexNum)\n",
    "    conversion = tuple(int(hexNum[i:i+hexLen//3], 16) for i in range(0, hexLen, hexLen//3))\n",
    "    return conversion\n"
   ]
  },
  {
   "cell_type": "code",
   "execution_count": 141,
   "metadata": {},
   "outputs": [],
   "source": [
    "def complimentary(val):\n",
    "    \"\"\"\n",
    "    Takes rgb tuple and produces complimentary color.\n",
    "    \"\"\"\n",
    "    #value has to be 0 < x 1 in order to convert to hls\n",
    "    r, g, b = map(lambda x: x/255.0, val)\n",
    "    #hls provides color in radial scale\n",
    "    h, l, s = colorsys.rgb_to_hls(r, g, b)\n",
    "    #get hue changes at 150 and 210 degrees\n",
    "    deg_180_hue = h + (180.0 / 360.0)\n",
    "    color_180_rgb = list(map(lambda x: round(x * 255),colorsys.hls_to_rgb(deg_180_hue, l, s)))\n",
    "    return color_180_rgb\n",
    "    "
   ]
  },
  {
   "cell_type": "code",
   "execution_count": 165,
   "metadata": {},
   "outputs": [
    {
     "data": {
      "image/png": "[encoded data removed]",
      "text/plain": [
       "<Figure size 720x720 with 1 Axes>"
      ]
     },
     "metadata": {
      "needs_background": "light"
     },
     "output_type": "display_data"
    }
   ],
   "source": [
    "#Visualize Colors\n",
    "hexVal = rgb2hex((78, 38, 58))\n",
    "fig = plt.gcf()\n",
    "fig.set_size_inches(10, 10, forward=True)\n",
    "\n",
    "plt.axes()\n",
    "\n",
    "circle = plt.Circle((0, 0), radius=0.75, fc='#264e3a')\n",
    "circle2 = plt.Circle((1, 1), radius=0.75, fc=hexVal)\n",
    "plt.gca().add_patch(circle)\n",
    "plt.gca().add_patch(circle2)\n",
    "\n",
    "\n",
    "plt.axis('scaled')\n",
    "plt.show()"
   ]
  },
  {
   "cell_type": "code",
   "execution_count": 143,
   "metadata": {},
   "outputs": [],
   "source": [
    "def splitComplimentary(val):\n",
    "    \"\"\"\n",
    "    Takes rgb tuple and produces list of split complimentary colors.\n",
    "    \"\"\"\n",
    "    #value has to be 0 < x 1 in order to convert to hls\n",
    "    r, g, b = map(lambda x: x/255.0, val)\n",
    "    #hls provides color in radial scale\n",
    "    h, l, s = colorsys.rgb_to_hls(r, g, b)\n",
    "    #get hue changes at 150 and 210 degrees\n",
    "    deg_150_hue = h + (150.0 / 360.0)\n",
    "    deg_210_hue = h + (210.0 / 360.0) \n",
    "    #convert to rgb\n",
    "    color_150_rgb = list(map(lambda x: round(x * 255),colorsys.hls_to_rgb(deg_150_hue, l, s)))\n",
    "    color_210_rgb = list(map(lambda x: round(x * 255),colorsys.hls_to_rgb(deg_210_hue, l, s)))\n",
    "    return [color_150_rgb, color_210_rgb]\n",
    "\n"
   ]
  },
  {
   "cell_type": "code",
   "execution_count": 145,
   "metadata": {},
   "outputs": [],
   "source": [
    "def analogous(val, d):\n",
    "    \"\"\"\n",
    "    Takes rgb tuple and angle (out of 100) and produces list of analogous colors)\n",
    "    \"\"\"\n",
    "    analogous_list = []\n",
    "    #set color wheel angle\n",
    "    d = d /360.0 \n",
    "    #value has to be 0 < x 1 in order to convert to hls\n",
    "    r, g, b = map(lambda x: x/255.0, val)\n",
    "    #hls provides color in radial scale\n",
    "    h, l, s = colorsys.rgb_to_hls(r, g, b)\n",
    "    #rotate hue by d\n",
    "    h = [(h+d) % 1 for d in (-d, d)]\n",
    "    for nh in h:\n",
    "        new_rgb = list(map(lambda x: round(x * 255),colorsys.hls_to_rgb(nh, l, s)))\n",
    "        analogous_list.append(new_rgb)\n",
    "    return analogous_list\n"
   ]
  },
  {
   "cell_type": "code",
   "execution_count": 147,
   "metadata": {},
   "outputs": [],
   "source": [
    "def triadic(val):\n",
    "    \"\"\"\n",
    "    Takes rgb tuple and produces list of triadic colors.\n",
    "    \"\"\"\n",
    "    #value has to be 0 < x 1 in order to convert to hls\n",
    "    r, g, b = map(lambda x: x/255.0, val)\n",
    "    #hls provides color in radial scale\n",
    "    h, l, s = colorsys.rgb_to_hls(r, g, b)\n",
    "    #get hue changes at 120 and 240 degrees\n",
    "    deg_120_hue = h + (120.0 / 360.0)\n",
    "    deg_240_hue = h + (240.0 / 360.0) \n",
    "    #convert to rgb\n",
    "    color_120_rgb = list(map(lambda x: round(x * 255),colorsys.hls_to_rgb(deg_120_hue, l, s)))\n",
    "    color_240_rgb = list(map(lambda x: round(x * 255),colorsys.hls_to_rgb(deg_240_hue, l, s)))\n",
    "    return [color_120_rgb, color_240_rgb]"
   ]
  },
  {
   "cell_type": "code",
   "execution_count": 149,
   "metadata": {},
   "outputs": [],
   "source": [
    "def tetradic(val):\n",
    "    \"\"\"\n",
    "    Takes rgb tuple and produces list of tetradic colors.\n",
    "    \"\"\"\n",
    "    #value has to be 0 < x 1 in order to convert to hls\n",
    "    r, g, b = map(lambda x: x/255.0, val)\n",
    "    #hls provides color in radial scale\n",
    "    h, l, s = colorsys.rgb_to_hls(r, g, b)\n",
    "    #get hue changes at 120 and 240 degrees\n",
    "    deg_60_hue = h + (60.0 / 360.0)\n",
    "    deg_180_hue = h + (180.0 / 360.0) \n",
    "    deg_240_hue = h + (240.0 / 360.0)\n",
    "    #convert to rgb\n",
    "    color_60_rgb = list(map(lambda x: round(x * 255),colorsys.hls_to_rgb(deg_60_hue, l, s)))\n",
    "    color_180_rgb = list(map(lambda x: round(x * 255),colorsys.hls_to_rgb(deg_180_hue, l, s)))\n",
    "    color_240_rgb = list(map(lambda x: round(x * 255),colorsys.hls_to_rgb(deg_240_hue, l, s)))\n",
    "    return [color_60_rgb, color_180_rgb, color_240_rgb]"
   ]
  },
  {
   "cell_type": "code",
   "execution_count": null,
   "metadata": {},
   "outputs": [],
   "source": []
  }
 ],
 "metadata": {
  "kernelspec": {
   "display_name": "Python 3",
   "language": "python",
   "name": "python3"
  },
  "language_info": {
   "codemirror_mode": {
    "name": "ipython",
    "version": 3
   },
   "file_extension": ".py",
   "mimetype": "text/x-python",
   "name": "python",
   "nbconvert_exporter": "python",
   "pygments_lexer": "ipython3",
   "version": "3.7.4"
  }
 },
 "nbformat": 4,
 "nbformat_minor": 2
}
